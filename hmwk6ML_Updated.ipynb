{
 "cells": [
  {
   "cell_type": "code",
   "execution_count": 1,
   "metadata": {},
   "outputs": [],
   "source": [
    "#importing python packages\n",
    "import pandas as pd\n",
    "import numpy as np\n",
    "import matplotlib.pyplot as plt"
   ]
  },
  {
   "cell_type": "code",
   "execution_count": 2,
   "metadata": {},
   "outputs": [],
   "source": [
    "#reading the excel file\n",
    "df = pd.read_excel('hw6data.xlsx')"
   ]
  },
  {
   "cell_type": "code",
   "execution_count": 3,
   "metadata": {},
   "outputs": [],
   "source": [
    "#selected features\n",
    "features = ['perfect','great','recommend','easy','love','disappoint','fall','off','waste','return']"
   ]
  },
  {
   "cell_type": "code",
   "execution_count": 4,
   "metadata": {},
   "outputs": [],
   "source": [
    "#training data\n",
    "train_data = df.loc[0:39]\n",
    "train_data = train_data.append(df.loc[50:89])"
   ]
  },
  {
   "cell_type": "code",
   "execution_count": 5,
   "metadata": {},
   "outputs": [],
   "source": [
    "#testing data\n",
    "test_data = df.loc[40:49]\n",
    "test_data = test_data.append(df.loc[90:99])"
   ]
  },
  {
   "cell_type": "code",
   "execution_count": 6,
   "metadata": {},
   "outputs": [],
   "source": [
    "#counting the number of times a feature occured in a review\n",
    "count_feature1=[]\n",
    "count_feature2=[]\n",
    "count_feature3=[]\n",
    "count_feature4=[]\n",
    "count_feature5=[]\n",
    "count_feature6=[]\n",
    "count_feature7=[]\n",
    "count_feature8=[]\n",
    "count_feature9=[]\n",
    "count_feature10=[]\n",
    "for i in range(0,40):\n",
    "    count_feature1.append(df['Reviews'].loc[i].count(features[0]))\n",
    "    count_feature2.append(df['Reviews'].loc[i].count(features[1]))\n",
    "    count_feature3.append(df['Reviews'].loc[i].count(features[2]))\n",
    "    count_feature4.append(df['Reviews'].loc[i].count(features[3]))\n",
    "    count_feature5.append(df['Reviews'].loc[i].count(features[4]))\n",
    "    count_feature6.append(df['Reviews'].loc[i].count(features[5]))\n",
    "    count_feature7.append(df['Reviews'].loc[i].count(features[6]))\n",
    "    count_feature8.append(df['Reviews'].loc[i].count(features[7]))\n",
    "    count_feature9.append(df['Reviews'].loc[i].count(features[8]))\n",
    "    count_feature10.append(df['Reviews'].loc[i].count(features[9]))\n",
    "for i in range(50,90):\n",
    "    count_feature1.append(df['Reviews'].loc[i].count(features[0]))\n",
    "    count_feature2.append(df['Reviews'].loc[i].count(features[1]))\n",
    "    count_feature3.append(df['Reviews'].loc[i].count(features[2]))\n",
    "    count_feature4.append(df['Reviews'].loc[i].count(features[3]))\n",
    "    count_feature5.append(df['Reviews'].loc[i].count(features[4]))\n",
    "    count_feature6.append(df['Reviews'].loc[i].count(features[5]))\n",
    "    count_feature7.append(df['Reviews'].loc[i].count(features[6]))\n",
    "    count_feature8.append(df['Reviews'].loc[i].count(features[7]))\n",
    "    count_feature9.append(df['Reviews'].loc[i].count(features[8]))\n",
    "    count_feature10.append(df['Reviews'].loc[i].count(features[9]))"
   ]
  },
  {
   "cell_type": "code",
   "execution_count": 7,
   "metadata": {},
   "outputs": [],
   "source": [
    "#as we have 50 positive and 50 negative reviews\n",
    "prob_positive = 0.5\n",
    "prob_negative = 0.5"
   ]
  },
  {
   "cell_type": "code",
   "execution_count": 8,
   "metadata": {},
   "outputs": [],
   "source": [
    "#counting the total number of words\n",
    "total_words_found = sum(count_feature1) + sum(count_feature2) + sum(count_feature3) + sum(count_feature4) + sum(count_feature5) + sum(count_feature6) + sum(count_feature7) + sum(count_feature8) + sum(count_feature9) + sum(count_feature10)"
   ]
  },
  {
   "cell_type": "code",
   "execution_count": 9,
   "metadata": {},
   "outputs": [],
   "source": [
    "#calculating the positive probability of each feature\n",
    "prob_feature1_positive = sum(count_feature1[0:40])/total_words_found\n",
    "prob_feature2_positive = sum(count_feature2[0:40])/total_words_found\n",
    "prob_feature3_positive = sum(count_feature3[0:40])/total_words_found\n",
    "prob_feature4_positive = sum(count_feature4[0:40])/total_words_found\n",
    "prob_feature5_positive = sum(count_feature5[0:40])/total_words_found\n",
    "prob_feature6_positive = sum(count_feature6[0:40])/total_words_found\n",
    "prob_feature7_positive = sum(count_feature7[0:40])/total_words_found\n",
    "prob_feature8_positive = sum(count_feature8[0:40])/total_words_found\n",
    "prob_feature9_positive = sum(count_feature9[0:40])/total_words_found\n",
    "prob_feature10_positive = sum(count_feature10[0:40])/total_words_found"
   ]
  },
  {
   "cell_type": "code",
   "execution_count": 10,
   "metadata": {},
   "outputs": [],
   "source": [
    "#calculating the negative probability of each feature \n",
    "prob_feature1_negative = sum(count_feature1[41:80])/total_words_found\n",
    "prob_feature2_negative = sum(count_feature2[41:80])/total_words_found\n",
    "prob_feature3_negative = sum(count_feature3[41:80])/total_words_found\n",
    "prob_feature4_negative = sum(count_feature4[41:80])/total_words_found\n",
    "prob_feature5_negative = sum(count_feature5[41:80])/total_words_found\n",
    "prob_feature6_negative = sum(count_feature6[41:80])/total_words_found\n",
    "prob_feature7_negative = sum(count_feature7[41:80])/total_words_found\n",
    "prob_feature8_negative = sum(count_feature8[41:80])/total_words_found\n",
    "prob_feature9_negative = sum(count_feature9[41:80])/total_words_found\n",
    "prob_feature10_negative = sum(count_feature10[41:80])/total_words_found"
   ]
  },
  {
   "cell_type": "code",
   "execution_count": 11,
   "metadata": {},
   "outputs": [],
   "source": [
    "#counting the features in the test data\n",
    "test_count_feature1 = []\n",
    "test_count_feature2 = []\n",
    "test_count_feature3 = []\n",
    "test_count_feature4 = []\n",
    "test_count_feature5 = []\n",
    "test_count_feature6 = []\n",
    "test_count_feature7 = []\n",
    "test_count_feature8 = []\n",
    "test_count_feature9 = []\n",
    "test_count_feature10 = []\n",
    "for i in range(40,50):\n",
    "    test_count_feature1.append(df['Reviews'].loc[i].count(features[0]))\n",
    "    test_count_feature2.append(df['Reviews'].loc[i].count(features[1]))\n",
    "    test_count_feature3.append(df['Reviews'].loc[i].count(features[2]))\n",
    "    test_count_feature4.append(df['Reviews'].loc[i].count(features[3]))\n",
    "    test_count_feature5.append(df['Reviews'].loc[i].count(features[4]))\n",
    "    test_count_feature6.append(df['Reviews'].loc[i].count(features[5]))\n",
    "    test_count_feature7.append(df['Reviews'].loc[i].count(features[6]))\n",
    "    test_count_feature8.append(df['Reviews'].loc[i].count(features[7]))\n",
    "    test_count_feature9.append(df['Reviews'].loc[i].count(features[8]))\n",
    "    test_count_feature10.append(df['Reviews'].loc[i].count(features[9]))\n",
    "for i in range(90,100):\n",
    "    test_count_feature1.append(df['Reviews'].loc[i].count(features[0]))\n",
    "    test_count_feature2.append(df['Reviews'].loc[i].count(features[1]))\n",
    "    test_count_feature3.append(df['Reviews'].loc[i].count(features[2]))\n",
    "    test_count_feature4.append(df['Reviews'].loc[i].count(features[3]))\n",
    "    test_count_feature5.append(df['Reviews'].loc[i].count(features[4]))\n",
    "    test_count_feature6.append(df['Reviews'].loc[i].count(features[5]))\n",
    "    test_count_feature7.append(df['Reviews'].loc[i].count(features[6]))\n",
    "    test_count_feature8.append(df['Reviews'].loc[i].count(features[7]))\n",
    "    test_count_feature9.append(df['Reviews'].loc[i].count(features[8]))\n",
    "    test_count_feature10.append(df['Reviews'].loc[i].count(features[9]))"
   ]
  },
  {
   "cell_type": "code",
   "execution_count": 12,
   "metadata": {},
   "outputs": [
    {
     "name": "stdout",
     "output_type": "stream",
     "text": [
      "0 0 0 0 0 0 0 0 0 0\n",
      "0 0 0 1 0 0 0 0 0 0\n",
      "1 0 1 1 0 0 0 0 0 0\n",
      "0 0 0 0 0 0 0 0 0 0\n",
      "0 0 0 1 1 0 0 0 0 0\n",
      "1 0 0 0 0 0 0 0 0 0\n",
      "0 1 0 1 0 0 0 0 0 0\n",
      "0 0 0 2 0 0 0 1 0 0\n",
      "1 0 0 1 0 0 0 0 0 0\n",
      "0 0 0 0 0 0 0 0 0 0\n",
      "0 0 0 0 0 0 0 0 0 0\n",
      "0 1 0 0 0 1 0 0 0 0\n",
      "0 0 0 0 0 0 0 1 0 0\n",
      "0 0 0 0 0 0 0 0 0 1\n",
      "0 0 0 0 0 0 0 0 0 0\n",
      "0 0 0 0 0 1 0 1 0 1\n",
      "0 0 0 0 0 0 0 2 0 1\n",
      "0 0 0 0 0 0 0 0 0 0\n",
      "0 1 1 0 0 0 0 0 0 0\n",
      "0 1 0 0 0 0 1 1 0 0\n"
     ]
    }
   ],
   "source": [
    "#printing the number of times each feature has occured\n",
    "for i in range(0,20):    \n",
    "    print(test_count_feature1[i], test_count_feature2[i], test_count_feature3[i], test_count_feature4[i], test_count_feature5[i], test_count_feature6[i], test_count_feature7[i], test_count_feature8[i], test_count_feature9[i], test_count_feature10[i])"
   ]
  },
  {
   "cell_type": "code",
   "execution_count": 13,
   "metadata": {},
   "outputs": [],
   "source": [
    "#testing to check if it is a positive or a negative review \n",
    "observed_output=[]\n",
    "for i in range(0,20):    \n",
    "    positive =  prob_feature1_positive*test_count_feature1[i] + prob_feature2_positive*test_count_feature2[i] + prob_feature3_positive*test_count_feature3[i] + prob_feature4_positive*test_count_feature4[i] + prob_feature5_positive*test_count_feature5[i] + prob_feature6_positive*test_count_feature6[i] + prob_feature7_positive*test_count_feature7[i] + prob_feature8_positive*test_count_feature8[i] + prob_feature9_positive*test_count_feature9[i] + prob_feature10_positive*test_count_feature10[i]\n",
    "    negative =  prob_feature1_negative*test_count_feature1[i] + prob_feature2_negative*test_count_feature2[i] + prob_feature3_negative*test_count_feature3[i] + prob_feature4_negative*test_count_feature4[i] + prob_feature5_negative*test_count_feature5[i] + prob_feature6_negative*test_count_feature6[i] + prob_feature7_negative*test_count_feature7[i] + prob_feature8_negative*test_count_feature8[i] + prob_feature9_negative*test_count_feature9[i] + prob_feature10_negative*test_count_feature10[i]\n",
    "    if positive > negative:\n",
    "        observed_output.append(1)\n",
    "    else:\n",
    "        observed_output.append(0)"
   ]
  },
  {
   "cell_type": "code",
   "execution_count": 14,
   "metadata": {},
   "outputs": [],
   "source": [
    "#collecting the expected output\n",
    "expected_output = []\n",
    "for class1 in test_data['Class']:\n",
    "    if class1 == 'Positive':\n",
    "        expected_output.append(1);\n",
    "    else:\n",
    "        expected_output.append(0);"
   ]
  },
  {
   "cell_type": "code",
   "execution_count": 15,
   "metadata": {},
   "outputs": [],
   "source": [
    "#initializing values for the bar plot\n",
    "r1 = np.arange(len(expected_output))\n",
    "r2 = [x + 0.5 for x in r1]"
   ]
  },
  {
   "cell_type": "code",
   "execution_count": 16,
   "metadata": {},
   "outputs": [
    {
     "data": {
      "text/plain": [
       "<matplotlib.legend.Legend at 0x1872d067f60>"
      ]
     },
     "execution_count": 16,
     "metadata": {},
     "output_type": "execute_result"
    },
    {
     "data": {
      "image/png": "[encoded data removed]",
      "text/plain": [
       "<Figure size 432x288 with 1 Axes>"
      ]
     },
     "metadata": {},
     "output_type": "display_data"
    }
   ],
   "source": [
    "#plotting the expected and observed values\n",
    "plt.bar(r1,expected_output,width = 0.5,edgecolor = 'black',label = 'Expected Values')\n",
    "plt.bar(r2,observed_output, width = 0.5,edgecolor = 'black',label = 'observed Values')\n",
    "plt.xlabel('Number of Reviews')\n",
    "plt.ylabel('Review Classification')\n",
    "plt.legend()"
   ]
  },
  {
   "cell_type": "markdown",
   "metadata": {},
   "source": [
    "0.5s in the observed values denote that the feature does not exist in the review\n"
   ]
  },
  {
   "cell_type": "markdown",
   "metadata": {},
   "source": [
    "0s denote a negative review"
   ]
  },
  {
   "cell_type": "markdown",
   "metadata": {},
   "source": [
    "1s denote a positive review"
   ]
  },
  {
   "cell_type": "code",
   "execution_count": 17,
   "metadata": {},
   "outputs": [
    {
     "data": {
      "text/plain": [
       "[1, 1, 1, 1, 1, 1, 1, 1, 1, 1, 0, 0, 0, 0, 0, 0, 0, 0, 0, 0]"
      ]
     },
     "execution_count": 17,
     "metadata": {},
     "output_type": "execute_result"
    }
   ],
   "source": [
    "expected_output"
   ]
  },
  {
   "cell_type": "code",
   "execution_count": 18,
   "metadata": {},
   "outputs": [
    {
     "data": {
      "text/plain": [
       "[0, 1, 1, 0, 1, 1, 1, 1, 1, 0, 0, 1, 0, 0, 0, 0, 0, 0, 1, 0]"
      ]
     },
     "execution_count": 18,
     "metadata": {},
     "output_type": "execute_result"
    }
   ],
   "source": [
    "observed_output"
   ]
  },
  {
   "cell_type": "markdown",
   "metadata": {},
   "source": [
    "# ALL DONE"
   ]
  },
  {
   "cell_type": "code",
   "execution_count": null,
   "metadata": {},
   "outputs": [],
   "source": []
  }
 ],
 "metadata": {
  "kernelspec": {
   "display_name": "Python 3",
   "language": "python",
   "name": "python3"
  },
  "language_info": {
   "codemirror_mode": {
    "name": "ipython",
    "version": 3
   },
   "file_extension": ".py",
   "mimetype": "text/x-python",
   "name": "python",
   "nbconvert_exporter": "python",
   "pygments_lexer": "ipython3",
   "version": "3.7.3"
  }
 },
 "nbformat": 4,
 "nbformat_minor": 2
}
